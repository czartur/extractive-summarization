{
 "cells": [
  {
   "cell_type": "code",
   "execution_count": 1,
   "metadata": {},
   "outputs": [
    {
     "name": "stderr",
     "output_type": "stream",
     "text": [
      "/Users/czartur/code/course/deep_learning/datachallenge/.venv/lib/python3.11/site-packages/tqdm/auto.py:21: TqdmWarning: IProgress not found. Please update jupyter and ipywidgets. See https://ipywidgets.readthedocs.io/en/stable/user_install.html\n",
      "  from .autonotebook import tqdm as notebook_tqdm\n"
     ]
    }
   ],
   "source": [
    "import json\n",
    "import torch\n",
    "import custom_utils\n",
    "import numpy as np\n",
    "from sentence_transformers import SentenceTransformer\n",
    "bert = SentenceTransformer('all-MiniLM-L6-v2')"
   ]
  },
  {
   "cell_type": "code",
   "execution_count": 2,
   "metadata": {},
   "outputs": [],
   "source": [
    "# read labels\n",
    "with open(\"training_labels.json\", \"r\") as json_file:\n",
    "    labels = json.load(json_file)\n",
    "\n",
    "# read nodes and edges\n",
    "dialogs, speakers, edges = custom_utils.gather_dataset(\"training\", combine=False)"
   ]
  },
  {
   "cell_type": "code",
   "execution_count": 3,
   "metadata": {},
   "outputs": [],
   "source": [
    "# aggregate data from all dialogs\n",
    "X_train_dialog, y_train, X_train_speaker, train_edge_idx, train_edge_attr = [], [], [], [], []\n",
    "X_test_dialog, y_test, X_test_speaker, test_edge_idx, test_edge_attr = [], [], [], [], []\n",
    "\n",
    "count_train, count_test = 0, 0\n",
    "for id in dialogs.keys():\n",
    "        if id[0] == 'T': # dumb --> dialogs starting with T for test\n",
    "                X_test_dialog += dialogs[id]\n",
    "                X_test_speaker += speakers[id]\n",
    "                y_test += labels[id]\n",
    "                test_edge_idx += [[e[0] + count_test, e[2] + count_test] for e in edges[id]]\n",
    "                test_edge_attr += [e[1] for e in edges[id]]\n",
    "                count_test += len(labels[id]) \n",
    "        else:\n",
    "                X_train_dialog += dialogs[id]\n",
    "                X_train_speaker += speakers[id]\n",
    "                y_train += labels[id]\n",
    "                train_edge_idx += [[e[0] + count_train, e[2] + count_train] for e in edges[id]]\n",
    "                train_edge_attr += [e[1] for e in edges[id]]\n",
    "                count_train += len(labels[id])"
   ]
  },
  {
   "cell_type": "code",
   "execution_count": 4,
   "metadata": {},
   "outputs": [],
   "source": [
    "# hot encode speakers name\n",
    "switcher = {\n",
    "        \"PM\" : [1,0,0,0],\n",
    "        \"ME\" : [0,1,0,0],\n",
    "        \"UI\" : [0,0,1,0],\n",
    "        \"ID\" : [0,0,0,1]\n",
    "}"
   ]
  },
  {
   "cell_type": "code",
   "execution_count": 5,
   "metadata": {},
   "outputs": [
    {
     "name": "stderr",
     "output_type": "stream",
     "text": [
      "Batches: 100%|██████████| 1588/1588 [01:00<00:00, 26.26it/s]\n",
      "Batches: 100%|██████████| 1585/1585 [00:24<00:00, 65.15it/s] \n",
      "Batches: 100%|██████████| 683/683 [00:25<00:00, 27.19it/s]\n",
      "Batches: 100%|██████████| 682/682 [00:10<00:00, 64.46it/s]\n"
     ]
    }
   ],
   "source": [
    "# train formatting\n",
    "X_dialog = bert.encode(X_train_dialog, show_progress_bar=True, convert_to_tensor=True)\n",
    "X_speaker = torch.Tensor([switcher[el] for el in X_train_speaker])\n",
    "X = torch.cat((X_dialog, X_speaker), dim=1)\n",
    "y = torch.Tensor(y_train).long()\n",
    "edge_idx = torch.Tensor(train_edge_idx).long().transpose(0,1)\n",
    "edge_attr = bert.encode(train_edge_attr, show_progress_bar=True, convert_to_tensor=True)\n",
    "\n",
    "# test formatting\n",
    "X_test_dialog = bert.encode(X_test_dialog, show_progress_bar=True, convert_to_tensor=True)\n",
    "X_test_speaker = torch.Tensor([switcher[el] for el in X_test_speaker])\n",
    "X_test = torch.cat((X_test_dialog, X_test_speaker), dim = 1)\n",
    "y_test = torch.Tensor(y_test).long()\n",
    "test_edge_idx = torch.Tensor(test_edge_idx).long().transpose(0,1)\n",
    "test_edge_attr = bert.encode(test_edge_attr, show_progress_bar=True, convert_to_tensor=True)"
   ]
  },
  {
   "cell_type": "code",
   "execution_count": 6,
   "metadata": {},
   "outputs": [],
   "source": [
    "num_features = X.shape[1]\n",
    "num_classes = 2\n",
    "edge_dim = edge_attr.shape[1]"
   ]
  },
  {
   "cell_type": "code",
   "execution_count": 7,
   "metadata": {},
   "outputs": [],
   "source": [
    "from torch.nn import Linear\n",
    "import torch.nn.functional as F\n",
    "\n",
    "class MLP(torch.nn.Module):\n",
    "    def __init__(self):\n",
    "        super().__init__()\n",
    "        torch.manual_seed(12345)\n",
    "        self.lin1 = Linear(num_features, 300)\n",
    "        self.lin2 = Linear(300, 600)\n",
    "        self.lin3 = Linear(600, num_classes)\n",
    "\n",
    "    def forward(self, x):\n",
    "        x = self.lin1(x)\n",
    "        x = x.relu()\n",
    "        x = F.dropout(x, p=0.5, training=self.training)\n",
    "        x = self.lin2(x)\n",
    "        x = x.sigmoid()\n",
    "        x = F.dropout(x, p=0.5, training=self.training)\n",
    "        x = self.lin3(x)\n",
    "        return x"
   ]
  },
  {
   "cell_type": "code",
   "execution_count": 28,
   "metadata": {},
   "outputs": [],
   "source": [
    "class LSTM(torch.nn.Module):\n",
    "    def __init__(self, num_features, hidden_size, num_classes):\n",
    "        super().__init__()\n",
    "        torch.manual_seed(1234567)\n",
    "        \n",
    "        self.lstm = torch.nn.LSTM(input_size=num_features, hidden_size=hidden_size, batch_first=True)\n",
    "        self.lin1 = Linear(hidden_size, 600)\n",
    "        self.lin2 = Linear(600, num_classes) \n",
    "\n",
    "    def forward(self, x):\n",
    "        # LSTM layer\n",
    "        lstm_out, _ = self.lstm(x)\n",
    "        \n",
    "        # output of the last time step\n",
    "        x = lstm_out[-1, :] # problem at this line...\n",
    "        \n",
    "        # linear layer\n",
    "        x = self.lin1(x)\n",
    "        x = x.relu()\n",
    "        x = F.dropout(x, p = 0.5, training=self.training)\n",
    "        x = self.lin2(x)\n",
    "        return x"
   ]
  },
  {
   "cell_type": "code",
   "execution_count": 29,
   "metadata": {},
   "outputs": [],
   "source": [
    "from torch_geometric.nn import GATConv, ResGatedGraphConv\n",
    "\n",
    "class GNN(torch.nn.Module):\n",
    "    def __init__(self, hidden_channels):\n",
    "        super().__init__()\n",
    "        torch.manual_seed(1234567)\n",
    "        # self.conv1 = SAGEConv(num_features, hidden_channels)\n",
    "        # self.conv2 = SAGEConv(hidden_channels, num_classes)\n",
    "        self.conv1 = ResGatedGraphConv(num_features, hidden_channels, edge_dim=edge_dim)\n",
    "        self.conv2 = ResGatedGraphConv(hidden_channels, num_classes, edge_dim=edge_dim)\n",
    "\n",
    "    def forward(self, x, edge_index, edge_attr):\n",
    "        x = self.conv1(x, edge_index, edge_attr)\n",
    "        x = x.relu()\n",
    "        x = F.dropout(x, p=0.5, training=self.training)\n",
    "        x = self.conv2(x, edge_index, edge_attr)\n",
    "        return x"
   ]
  },
  {
   "cell_type": "code",
   "execution_count": 30,
   "metadata": {},
   "outputs": [],
   "source": [
    "def train():\n",
    "      model.train()\n",
    "      optimizer.zero_grad()  # Clear gradients.\n",
    "      out = model(X)  # Perform a single forward pass.\n",
    "      # out = model(X, edge_idx)  # Perform a single forward pass.\n",
    "      # out = model(X, edge_idx, edge_attr)  # Perform a single forward pass.\n",
    "      loss = criterion(out[train_mask], y[train_mask])  # Compute the loss solely based on the training nodes.\n",
    "      loss.backward()  # Derive gradients.\n",
    "      optimizer.step()  # Update parameters based on gradients.\n",
    "      return loss\n",
    "\n",
    "def validate():\n",
    "      model.eval()\n",
    "      out = model(X)\n",
    "      # out = model(X, edge_idx)\n",
    "      # out = model(X, edge_idx, edge_attr)\n",
    "      pred = out.argmax(dim=1)  # Use the class with highest probability.\n",
    "\n",
    "      # TP, FP, FN\n",
    "      TP = ((pred[val_mask] == 1) & (y[val_mask] == 1)).sum()\n",
    "      FP = ((pred[val_mask] == 1) & (y[val_mask] == 0)).sum()\n",
    "      FN = ((pred[val_mask] == 0) & (y[val_mask] == 1)).sum()\n",
    "\n",
    "      # Calculate precision, recall, and F1 score\n",
    "      precision = TP / max((TP + FP), 1e-10)  # Avoid division by zero\n",
    "      recall = TP / max((TP + FN), 1e-10)  # Avoid division by zero\n",
    "      f1_score = 2 * (precision * recall) / max((precision + recall), 1e-10)  # Avoid division by zero\n",
    "\n",
    "      # # Calculate accuracy\n",
    "      # test_correct = pred[val_mask] == y[val_mask]\n",
    "      # val_acc = int(test_correct.sum()) / int(val_mask.sum())\n",
    "\n",
    "      return criterion(out[val_mask], y[val_mask]), f1_score\n",
    "\n",
    "def test():\n",
    "      model.eval()\n",
    "      out = model(X_test)\n",
    "      # out = model(X_test, test_edge_idx)\n",
    "      # out = model(X_test, test_edge_idx, test_edge_attr)\n",
    "      pred = out.argmax(dim=1)\n",
    "\n",
    "      # TP, FP, FN\n",
    "      TP = ((pred == 1) & (y_test == 1)).sum()\n",
    "      FP = ((pred == 1) & (y_test == 0)).sum()\n",
    "      FN = ((pred == 0) & (y_test == 1)).sum()\n",
    "\n",
    "      # Calculate precision, recall, and F1 score\n",
    "      precision = TP / max((TP + FP), 1e-10)  # Avoid division by zero\n",
    "      recall = TP / max((TP + FN), 1e-10)  # Avoid division by zero\n",
    "      f1_score = 2 * (precision * recall) / max((precision + recall), 1e-10)  # Avoid division by zero\n",
    "      \n",
    "      return criterion(out, y_test), f1_score\n"
   ]
  },
  {
   "cell_type": "code",
   "execution_count": 31,
   "metadata": {},
   "outputs": [],
   "source": [
    "# model = MLP()\n",
    "model = LSTM(num_features, 500, num_classes)\n",
    "# model = GNN(hidden_channels=300)\n",
    "criterion = torch.nn.CrossEntropyLoss()  # Define loss criterion.\n",
    "optimizer = torch.optim.Adam(model.parameters(), lr=0.01, weight_decay=5e-4)  # Define optimizer."
   ]
  },
  {
   "cell_type": "code",
   "execution_count": 32,
   "metadata": {},
   "outputs": [
    {
     "name": "stdout",
     "output_type": "stream",
     "text": [
      "torch.Size([50786, 500])\n",
      "tensor([[-0.0023,  0.0016,  0.0010,  ...,  0.0061, -0.0025, -0.0217],\n",
      "        [-0.0012, -0.0033, -0.0006,  ...,  0.0007,  0.0099, -0.0339],\n",
      "        [-0.0033,  0.0044, -0.0104,  ...,  0.0013,  0.0148, -0.0315],\n",
      "        ...,\n",
      "        [ 0.0125, -0.0080, -0.0230,  ..., -0.0156,  0.0079, -0.0107],\n",
      "        [ 0.0105, -0.0051, -0.0293,  ..., -0.0063,  0.0062, -0.0211],\n",
      "        [ 0.0051, -0.0010, -0.0306,  ...,  0.0011,  0.0082, -0.0270]],\n",
      "       grad_fn=<SqueezeBackward1>)\n"
     ]
    },
    {
     "ename": "IndexError",
     "evalue": "The shape of the mask [50786] at index 0 does not match the shape of the indexed tensor [2] at index 0",
     "output_type": "error",
     "traceback": [
      "\u001b[0;31m---------------------------------------------------------------------------\u001b[0m",
      "\u001b[0;31mIndexError\u001b[0m                                Traceback (most recent call last)",
      "\u001b[1;32m/Users/czartur/code/course/deep_learning/datachallenge/MLP.ipynb Cell 12\u001b[0m line \u001b[0;36m1\n\u001b[1;32m     <a href='vscode-notebook-cell:/Users/czartur/code/course/deep_learning/datachallenge/MLP.ipynb#X13sZmlsZQ%3D%3D?line=13'>14</a>\u001b[0m train_mask \u001b[39m=\u001b[39m torch\u001b[39m.\u001b[39mTensor(train_mask)\u001b[39m.\u001b[39mbool()\n\u001b[1;32m     <a href='vscode-notebook-cell:/Users/czartur/code/course/deep_learning/datachallenge/MLP.ipynb#X13sZmlsZQ%3D%3D?line=14'>15</a>\u001b[0m val_mask \u001b[39m=\u001b[39m torch\u001b[39m.\u001b[39mTensor(val_mask)\u001b[39m.\u001b[39mbool()\n\u001b[0;32m---> <a href='vscode-notebook-cell:/Users/czartur/code/course/deep_learning/datachallenge/MLP.ipynb#X13sZmlsZQ%3D%3D?line=15'>16</a>\u001b[0m train_loss \u001b[39m=\u001b[39m train()\n\u001b[1;32m     <a href='vscode-notebook-cell:/Users/czartur/code/course/deep_learning/datachallenge/MLP.ipynb#X13sZmlsZQ%3D%3D?line=16'>17</a>\u001b[0m val_loss, f1_score \u001b[39m=\u001b[39m validate()\n\u001b[1;32m     <a href='vscode-notebook-cell:/Users/czartur/code/course/deep_learning/datachallenge/MLP.ipynb#X13sZmlsZQ%3D%3D?line=18'>19</a>\u001b[0m epoch_train_loss \u001b[39m+\u001b[39m\u001b[39m=\u001b[39m train_loss\u001b[39m.\u001b[39mdetach()\u001b[39m.\u001b[39mnumpy() \u001b[39m/\u001b[39m skf\u001b[39m.\u001b[39mget_n_splits()\n",
      "\u001b[1;32m/Users/czartur/code/course/deep_learning/datachallenge/MLP.ipynb Cell 12\u001b[0m line \u001b[0;36m7\n\u001b[1;32m      <a href='vscode-notebook-cell:/Users/czartur/code/course/deep_learning/datachallenge/MLP.ipynb#X13sZmlsZQ%3D%3D?line=3'>4</a>\u001b[0m out \u001b[39m=\u001b[39m model(X)  \u001b[39m# Perform a single forward pass.\u001b[39;00m\n\u001b[1;32m      <a href='vscode-notebook-cell:/Users/czartur/code/course/deep_learning/datachallenge/MLP.ipynb#X13sZmlsZQ%3D%3D?line=4'>5</a>\u001b[0m \u001b[39m# out = model(X, edge_idx)  # Perform a single forward pass.\u001b[39;00m\n\u001b[1;32m      <a href='vscode-notebook-cell:/Users/czartur/code/course/deep_learning/datachallenge/MLP.ipynb#X13sZmlsZQ%3D%3D?line=5'>6</a>\u001b[0m \u001b[39m# out = model(X, edge_idx, edge_attr)  # Perform a single forward pass.\u001b[39;00m\n\u001b[0;32m----> <a href='vscode-notebook-cell:/Users/czartur/code/course/deep_learning/datachallenge/MLP.ipynb#X13sZmlsZQ%3D%3D?line=6'>7</a>\u001b[0m loss \u001b[39m=\u001b[39m criterion(out[train_mask], y[train_mask])  \u001b[39m# Compute the loss solely based on the training nodes.\u001b[39;00m\n\u001b[1;32m      <a href='vscode-notebook-cell:/Users/czartur/code/course/deep_learning/datachallenge/MLP.ipynb#X13sZmlsZQ%3D%3D?line=7'>8</a>\u001b[0m loss\u001b[39m.\u001b[39mbackward()  \u001b[39m# Derive gradients.\u001b[39;00m\n\u001b[1;32m      <a href='vscode-notebook-cell:/Users/czartur/code/course/deep_learning/datachallenge/MLP.ipynb#X13sZmlsZQ%3D%3D?line=8'>9</a>\u001b[0m optimizer\u001b[39m.\u001b[39mstep()  \u001b[39m# Update parameters based on gradients.\u001b[39;00m\n",
      "\u001b[0;31mIndexError\u001b[0m: The shape of the mask [50786] at index 0 does not match the shape of the indexed tensor [2] at index 0"
     ]
    }
   ],
   "source": [
    "from sklearn.model_selection import StratifiedShuffleSplit, StratifiedKFold\n",
    "\n",
    "# sss = StratifiedShuffleSplit(n_splits=100, random_state=42)\n",
    "skf = StratifiedKFold(n_splits=5)\n",
    "all_train_loss, all_val_loss, all_test_loss = [], [], []\n",
    "for epoch in range(1,201):\n",
    "    epoch_train_loss = 0\n",
    "    epoch_val_loss = 0\n",
    "    epoch_f1_score = 0\n",
    "    for i, (train_idx, val_idx) in enumerate(skf.split(X,y)):\n",
    "        train_mask, val_mask = [False]*len(X), [False]*len(X)\n",
    "        for idx in train_idx: train_mask[idx] = True\n",
    "        for idx in val_idx: val_mask[idx] = True\n",
    "        train_mask = torch.Tensor(train_mask).bool()\n",
    "        val_mask = torch.Tensor(val_mask).bool()\n",
    "        train_loss = train()\n",
    "        val_loss, f1_score = validate()\n",
    "\n",
    "        epoch_train_loss += train_loss.detach().numpy() / skf.get_n_splits()\n",
    "        epoch_val_loss += val_loss.detach().numpy() / skf.get_n_splits()\n",
    "        # epoch_f1_score += f1_score.detach().numpy() / skf.get_n_splits() \n",
    "\n",
    "    test_loss, f1_score = test()\n",
    "    all_train_loss.append(epoch_train_loss)\n",
    "    all_val_loss.append(epoch_val_loss)\n",
    "    all_test_loss.append(test_loss)\n",
    "    print(f'Epoch: {epoch:03d}, Train Loss: {epoch_train_loss:.4f}, Val loss: {epoch_val_loss:.4f}, Test loss: {test_loss:.4f}, F1-score: {f1_score:.4f}')"
   ]
  },
  {
   "cell_type": "code",
   "execution_count": 19,
   "metadata": {},
   "outputs": [
    {
     "data": {
      "text/plain": [
       "<function matplotlib.pyplot.show(close=None, block=None)>"
      ]
     },
     "execution_count": 19,
     "metadata": {},
     "output_type": "execute_result"
    },
    {
     "data": {
      "image/png": "[encoded data removed]",
      "text/plain": [
       "<Figure size 640x480 with 1 Axes>"
      ]
     },
     "metadata": {},
     "output_type": "display_data"
    }
   ],
   "source": [
    "%matplotlib inline\n",
    "import matplotlib.pyplot as plt\n",
    "plt.plot(all_train_loss, label='train_loss')\n",
    "plt.plot(all_val_loss,label='val_loss')\n",
    "plt.legend()\n",
    "plt.show"
   ]
  },
  {
   "cell_type": "code",
   "execution_count": 21,
   "metadata": {},
   "outputs": [],
   "source": [
    "test_dialogs, test_speakers, test_edges = custom_utils.gather_dataset(\"test\", combine=False)\n",
    "\n",
    "test_labels = {}\n",
    "model.eval()\n",
    "for id, sentences in test_dialogs.items():\n",
    "    X_test_dialog = bert.encode(sentences, convert_to_tensor=True)\n",
    "    X_test_speaker = torch.Tensor([switcher[el] for el in test_speakers[id]])\n",
    "    X_test = torch.cat((X_test_dialog, X_test_speaker), 1)\n",
    "    out = model(X_test)\n",
    "    pred = out.argmax(dim=1)\n",
    "    test_labels[id] = pred.tolist()"
   ]
  },
  {
   "cell_type": "code",
   "execution_count": 22,
   "metadata": {},
   "outputs": [],
   "source": [
    "# # uncomment to generate test labels\n",
    "# with open(\"test_labels.json\", \"w\") as json_file:\n",
    "#     json.dump(test_labels, json_file)"
   ]
  },
  {
   "cell_type": "code",
   "execution_count": null,
   "metadata": {},
   "outputs": [],
   "source": []
  }
 ],
 "metadata": {
  "kernelspec": {
   "display_name": "env",
   "language": "python",
   "name": "python3"
  },
  "language_info": {
   "codemirror_mode": {
    "name": "ipython",
    "version": 3
   },
   "file_extension": ".py",
   "mimetype": "text/x-python",
   "name": "python",
   "nbconvert_exporter": "python",
   "pygments_lexer": "ipython3",
   "version": "3.11.6"
  }
 },
 "nbformat": 4,
 "nbformat_minor": 2
}
