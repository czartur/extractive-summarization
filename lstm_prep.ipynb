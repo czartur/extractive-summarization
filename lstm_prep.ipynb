{
 "cells": [
  {
   "cell_type": "code",
   "execution_count": 1,
   "metadata": {},
   "outputs": [],
   "source": [
    "import torch\n",
    "import torch\n",
    "import numpy as np\n",
    "from gensim.models import Word2Vec"
   ]
  },
  {
   "cell_type": "code",
   "execution_count": 2,
   "metadata": {},
   "outputs": [],
   "source": [
    "import gensim.downloader as api\n",
    "\n",
    "tokenizer = api.load(\"glove-wiki-gigaword-300\")"
   ]
  },
  {
   "cell_type": "code",
   "execution_count": 42,
   "metadata": {},
   "outputs": [],
   "source": [
    "def embed_sentence(sentence, tokenizer):\n",
    "    embeddings = []\n",
    "    for word in sentence.split():\n",
    "        word = word.lower()\n",
    "        if not word in tokenizer: continue\n",
    "        \n",
    "        embeddings.append(tokenizer[word])\n",
    "    \n",
    "    if len(embeddings) == 0: # bug fix for padding function (we need to asssure at least one element)\n",
    "        embeddings = np.zeros(shape=(1,tokenizer.vector_size))\n",
    "    return torch.tensor(np.asarray(embeddings))"
   ]
  },
  {
   "cell_type": "code",
   "execution_count": 43,
   "metadata": {},
   "outputs": [],
   "source": [
    "from pathlib import Path\n",
    "import json\n",
    "\n",
    "# read all sentences\n",
    "sentences = []\n",
    "for item in Path(\"training\").iterdir():\n",
    "    if not item.is_file(): continue \n",
    "    if not item.suffix == \".json\": continue\n",
    "    \n",
    "    # load data\n",
    "    dialog = json.load(open(item, \"r\"))\n",
    "    sentences += [exchange[\"text\"] for exchange in dialog]"
   ]
  },
  {
   "cell_type": "code",
   "execution_count": 44,
   "metadata": {},
   "outputs": [
    {
     "name": "stdout",
     "output_type": "stream",
     "text": [
      "aqui tem que printar...\n"
     ]
    }
   ],
   "source": [
    "from torch.nn.utils.rnn import pack_padded_sequence, pad_sequence\n",
    "\n",
    "# stacking sequences\n",
    "embedded_sentences = [embed_sentence(sentence, tokenizer) for sentence in sentences]\n",
    "\n",
    "# padding sequences so that they have same dimension\n",
    "padded_sequences = pad_sequence(embedded_sentences, batch_first=True)\n",
    "\n",
    "# packing sequences\n",
    "lengths = [len(sentence.split()) for sentence in sentences]\n",
    "packed_sequences = pack_padded_sequence(padded_sequences, lengths, batch_first=True, enforce_sorted=False)"
   ]
  },
  {
   "cell_type": "code",
   "execution_count": null,
   "metadata": {},
   "outputs": [],
   "source": [
    "# GPT\n",
    "# class LSTMClassifier(nn.Module):\n",
    "#     def __init__(self, input_size, hidden_size, output_size):\n",
    "#         super(LSTMClassifier, self).__init__()\n",
    "#         self.lstm = nn.LSTM(input_size, hidden_size, batch_first=True)\n",
    "#         self.fc = nn.Linear(hidden_size, output_size)\n",
    "\n",
    "#     def forward(self, x, lengths):\n",
    "#         # Pack the sequences\n",
    "#         packed_input = pack_padded_sequence(x, lengths, batch_first=True, enforce_sorted=False)\n",
    "\n",
    "#         # Pass through LSTM\n",
    "#         lstm_out, _ = self.lstm(packed_input)\n",
    "\n",
    "#         # Unpack the sequences (if needed)\n",
    "#         lstm_out, _ = pad_packed_sequence(lstm_out, batch_first=True)\n",
    "\n",
    "#         # Take the output from the last time step\n",
    "#         lstm_out = lstm_out[:, -1, :]\n",
    "\n",
    "#         # Fully connected layer\n",
    "#         output = self.fc(lstm_out)\n",
    "#         return output\n"
   ]
  }
 ],
 "metadata": {
  "kernelspec": {
   "display_name": ".venv",
   "language": "python",
   "name": "python3"
  },
  "language_info": {
   "codemirror_mode": {
    "name": "ipython",
    "version": 3
   },
   "file_extension": ".py",
   "mimetype": "text/x-python",
   "name": "python",
   "nbconvert_exporter": "python",
   "pygments_lexer": "ipython3",
   "version": "3.11.6"
  }
 },
 "nbformat": 4,
 "nbformat_minor": 2
}
