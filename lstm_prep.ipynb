{
 "cells": [
  {
   "cell_type": "code",
   "execution_count": null,
   "metadata": {},
   "outputs": [],
   "source": [
    "import torch\n",
    "import torch\n",
    "import numpy as np"
   ]
  },
  {
   "cell_type": "code",
   "execution_count": null,
   "metadata": {},
   "outputs": [],
   "source": [
    "from gensim.models import KeyedVectors\n",
    "import gensim.downloader as api\n",
    "\n",
    "model_path = \"tokenizer.model\"\n",
    "model_name = \"glove-wiki-gigaword-300\"\n",
    "\n",
    "# load model (and save if necessary)\n",
    "try:\n",
    "    tokenizer = KeyedVectors.load(model_path)\n",
    "except FileNotFoundError:\n",
    "    tokenizer = api.load(model_name)\n",
    "    tokenizer.save(model_path)"
   ]
  },
  {
   "cell_type": "code",
   "execution_count": null,
   "metadata": {},
   "outputs": [],
   "source": [
    "def embed_sentence(sentence, tokenizer):\n",
    "    embeddings = []\n",
    "    length = 0\n",
    "    for word in sentence.split():\n",
    "        word = word.lower()\n",
    "        if not word in tokenizer: continue\n",
    "        length += 1\n",
    "        embeddings.append(tokenizer[word])\n",
    "    \n",
    "    if len(embeddings) == 0: # bug fix for padding function (we need to asssure at least one element)\n",
    "        embeddings = np.zeros(shape=(1,tokenizer.vector_size))\n",
    "        length = 1\n",
    "    return torch.tensor(np.asarray(embeddings)), length"
   ]
  },
  {
   "cell_type": "code",
   "execution_count": null,
   "metadata": {},
   "outputs": [],
   "source": [
    "from pathlib import Path\n",
    "import json\n",
    "\n",
    "# read data\n",
    "sentences = []\n",
    "speakers = []\n",
    "labels = []\n",
    "label_data = json.load(open(\"training_labels.json\", \"r\"))\n",
    "for item in Path(\"training\").iterdir():\n",
    "    if not item.is_file(): continue \n",
    "    if not item.suffix == \".json\": continue\n",
    "    \n",
    "    # load data\n",
    "    dialog = json.load(open(item, \"r\"))\n",
    "    sentences += [exchange[\"text\"] for exchange in dialog]\n",
    "    speakers += [exchange[\"speaker\"] for exchange in dialog]\n",
    "    labels += [val for val in label_data[item.stem]]"
   ]
  },
  {
   "cell_type": "code",
   "execution_count": null,
   "metadata": {},
   "outputs": [],
   "source": [
    "print(len(sentences), len(speakers), len(labels))"
   ]
  },
  {
   "cell_type": "code",
   "execution_count": null,
   "metadata": {},
   "outputs": [],
   "source": [
    "switcher = {\n",
    "        \"PM\" : [1,0,0,0],\n",
    "        \"ME\" : [0,1,0,0],\n",
    "        \"UI\" : [0,0,1,0],\n",
    "        \"ID\" : [0,0,0,1]\n",
    "}"
   ]
  },
  {
   "cell_type": "code",
   "execution_count": null,
   "metadata": {},
   "outputs": [],
   "source": [
    "test = torch.tensor([switcher[sp] for sp in speakers])\n",
    "\n",
    "ht = torch.rand(size=(len(speakers),2))\n",
    "\n",
    "torch.cat([ht, test], dim = 1)"
   ]
  },
  {
   "cell_type": "code",
   "execution_count": null,
   "metadata": {},
   "outputs": [],
   "source": [
    "import torch.nn as nn\n",
    "from torch.nn.utils.rnn import pack_padded_sequence, pad_sequence\n",
    "\n",
    "class LSTMClassifier(nn.Module):\n",
    "    def __init__(self, input_size, hidden_size, output_size):\n",
    "        super(LSTMClassifier, self).__init__()\n",
    "        self.lstm = nn.LSTM(input_size, hidden_size, batch_first=True)\n",
    "        self.fc = nn.Linear(hidden_size + len(switcher), output_size)\n",
    "\n",
    "    def forward(self, sentences, speakers):\n",
    "        # from sentences to sequences of vectors (embedding)\n",
    "        embedded_sentences, lengths = list(zip(*[embed_sentence(sentence, tokenizer) for sentence in sentences]))\n",
    "\n",
    "        # pack / pad sequences (save memory) \n",
    "        packed_sentences = pack_padded_sequence(pad_sequence(embedded_sentences, batch_first=True), lengths, batch_first=True, enforce_sorted=False)\n",
    "        \n",
    "        # hot encode speakers\n",
    "        encoded_speakers = torch.tensor([switcher[speaker] for speaker in speakers])\n",
    "\n",
    "        # lstm layer\n",
    "        _, (ht,_) = self.lstm(packed_sentences) # it does accept packed sequences \n",
    "\n",
    "        # linear f.c. layer \n",
    "        output = self.fc(torch.cat([ht[-1], encoded_speakers], dim=1)) # use only output from the last hidden state\n",
    "        \n",
    "        return output\n"
   ]
  },
  {
   "cell_type": "code",
   "execution_count": null,
   "metadata": {},
   "outputs": [],
   "source": [
    "from sklearn.model_selection import StratifiedKFold\n",
    "from torchmetrics.classification import F1Score\n",
    "\n",
    "device = \"cuda\" if torch.cuda.is_available() else \"cpu\"\n",
    "num_classes = 2\n",
    "num_features = tokenizer.vector_size # vector size of word embedding"
   ]
  },
  {
   "cell_type": "code",
   "execution_count": null,
   "metadata": {},
   "outputs": [],
   "source": [
    "def train(sentences, speakers, labels, model, criterion, optimizer):\n",
    "    assert(len(labels) == len(sentences))\n",
    "    model.train() \n",
    "    optimizer.zero_grad()\n",
    "    out = model(sentences, speakers)\n",
    "    loss = criterion(out, labels)\n",
    "    loss.backward()\n",
    "    optimizer.step()\n",
    "    return loss\n",
    "\n",
    "def validate(sentences, speakers, labels, model, criterion):\n",
    "    assert(len(labels) == len(sentences))\n",
    "    model.eval()\n",
    "    out = model(sentences, speakers)\n",
    "    loss = criterion(out, labels)\n",
    "    pred_labels = out.argmax(dim=1)\n",
    "    f1 = F1Score(task='binary', num_classes=num_classes)\n",
    "    score = f1(labels, pred_labels)\n",
    "    return loss, score"
   ]
  },
  {
   "cell_type": "code",
   "execution_count": null,
   "metadata": {},
   "outputs": [],
   "source": [
    "import optuna\n",
    "\n",
    "def objective(trial):\n",
    "    n_folds = 5\n",
    "    n_epochs = 200\n",
    "    patience = 10\n",
    "    avg_score = 0\n",
    "    \n",
    "\n",
    "    skf = StratifiedKFold(n_splits=n_folds)\n",
    "\n",
    "    for fold, (train_idx, valid_idx) in enumerate(skf.split(sentences, labels)):\n",
    "        # split data\n",
    "        train_labels = torch.tensor([labels[i] for i in train_idx])\n",
    "        valid_labels = torch.tensor([labels[i] for i in valid_idx])\n",
    "        \n",
    "        train_sentences = [sentences[i] for i in train_idx]\n",
    "        valid_sentences = [sentences[i] for i in valid_idx]\n",
    "\n",
    "        train_speakers = [speakers[i] for i in train_idx]\n",
    "        valid_speakers = [speakers[i] for i in valid_idx]\n",
    "        \n",
    "        # set model, criterion and optimizers\n",
    "        # 1. parameters\n",
    "        # hidden_size = trial.suggest_int(f'hidden_size', 16, 256)\n",
    "        hidden_size = 64\n",
    "        # lr = trial.suggest_float(f'lr', 1e-3, 1e-1)\n",
    "        lr = 0.01\n",
    "        # weight_decay = trial.suggest_float(f'weight_decay', 1e-5, 1e-2)\n",
    "        weight_decay = 5e-4\n",
    "        # 2. objects\n",
    "        model = LSTMClassifier(num_features, hidden_size, num_classes).to(device)\n",
    "        criterion = torch.nn.CrossEntropyLoss() # need to check input\n",
    "        optimizer = torch.optim.Adam(model.parameters(), lr=lr, weight_decay=weight_decay)\n",
    "        best_weights = model.state_dict()\n",
    "\n",
    "        # Epoch\n",
    "        best_valid_loss = float('inf')\n",
    "        score_at_best = -1\n",
    "        current_patience = 0\n",
    "        for epoch in range(n_epochs):\n",
    "            train_loss = train(train_sentences, train_speakers, train_labels, model, criterion, optimizer)\n",
    "            valid_loss, score = validate(valid_sentences, valid_speakers, valid_labels, model, criterion)\n",
    "            \n",
    "            # Stopping criteria            \n",
    "            if valid_loss > best_valid_loss:\n",
    "                current_patience += 1\n",
    "            else:\n",
    "                # best_weights = model.state_dict()\n",
    "                best_valid_loss = valid_loss    \n",
    "                score_at_best = score \n",
    "                current_patience = 0\n",
    "            \n",
    "            if current_patience == patience:\n",
    "                break\n",
    "            \n",
    "            print(f'Fold: {fold}, Epoch: {epoch}, Train loss: {train_loss:.4f}, Valid loss: {valid_loss:.4f}, Score: {score:.4f}')\n",
    "        \n",
    "        avg_score += score_at_best/n_folds\n",
    "        \n",
    "        # save model and params \n",
    "        torch.save(best_weights, f\"models/lstm_{trial.number}_{fold}.pt\")\n",
    "        json.dump(trial.params, open(f\"models/params_{trial.number}.json\", \"w\"))\n",
    "    return avg_score"
   ]
  },
  {
   "cell_type": "code",
   "execution_count": null,
   "metadata": {},
   "outputs": [],
   "source": [
    "study = optuna.create_study(direction='maximize')\n",
    "study.optimize(objective, n_trials=1)"
   ]
  }
 ],
 "metadata": {
  "kernelspec": {
   "display_name": ".venv",
   "language": "python",
   "name": "python3"
  },
  "language_info": {
   "codemirror_mode": {
    "name": "ipython",
    "version": 3
   },
   "file_extension": ".py",
   "mimetype": "text/x-python",
   "name": "python",
   "nbconvert_exporter": "python",
   "pygments_lexer": "ipython3",
   "version": "3.11.6"
  }
 },
 "nbformat": 4,
 "nbformat_minor": 2
}
