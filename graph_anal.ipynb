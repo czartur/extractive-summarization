{
 "cells": [
  {
   "cell_type": "code",
   "execution_count": 47,
   "metadata": {},
   "outputs": [],
   "source": [
    "import custom_utils as cu\n",
    "import pandas as pd\n",
    "import numpy as np\n",
    "import json\n",
    "import seaborn as sns\n",
    "import matplotlib.pyplot as plt"
   ]
  },
  {
   "cell_type": "code",
   "execution_count": 48,
   "metadata": {},
   "outputs": [],
   "source": [
    "sentences, speakers, edges = cu.read_data_by_ID(\"training\", combine=False)\n",
    "dialog_ids = sentences.keys()\n",
    "\n",
    "labels = json.load(open(\"training_labels.json\", \"r\"))"
   ]
  },
  {
   "cell_type": "code",
   "execution_count": 49,
   "metadata": {},
   "outputs": [],
   "source": [
    "in_degrees = {}\n",
    "out_degrees = {}\n",
    "\n",
    "for id in dialog_ids:\n",
    "    n_nodes = len(sentences[id])\n",
    "    in_degree = [0]*n_nodes\n",
    "    out_degree = [0]*n_nodes\n",
    "\n",
    "    for edge in edges[id]:\n",
    "        out_degree[edge[0]] += 1\n",
    "        in_degree[edge[2]] += 1\n",
    "\n",
    "    in_degrees[id] = in_degree\n",
    "    out_degrees[id] = out_degree\n"
   ]
  },
  {
   "cell_type": "code",
   "execution_count": 50,
   "metadata": {},
   "outputs": [
    {
     "data": {
      "text/html": [
       "<div>\n",
       "<style scoped>\n",
       "    .dataframe tbody tr th:only-of-type {\n",
       "        vertical-align: middle;\n",
       "    }\n",
       "\n",
       "    .dataframe tbody tr th {\n",
       "        vertical-align: top;\n",
       "    }\n",
       "\n",
       "    .dataframe thead th {\n",
       "        text-align: right;\n",
       "    }\n",
       "</style>\n",
       "<table border=\"1\" class=\"dataframe\">\n",
       "  <thead>\n",
       "    <tr style=\"text-align: right;\">\n",
       "      <th></th>\n",
       "      <th>sentences</th>\n",
       "      <th>in_degree</th>\n",
       "      <th>out_degree</th>\n",
       "      <th>labels</th>\n",
       "    </tr>\n",
       "  </thead>\n",
       "  <tbody>\n",
       "    <tr>\n",
       "      <th>0</th>\n",
       "      <td>Okay</td>\n",
       "      <td>0</td>\n",
       "      <td>1</td>\n",
       "      <td>0</td>\n",
       "    </tr>\n",
       "    <tr>\n",
       "      <th>1</th>\n",
       "      <td>Right</td>\n",
       "      <td>1</td>\n",
       "      <td>1</td>\n",
       "      <td>0</td>\n",
       "    </tr>\n",
       "    <tr>\n",
       "      <th>2</th>\n",
       "      <td>&lt;vocalsound&gt; Um well this is the kick-off meet...</td>\n",
       "      <td>1</td>\n",
       "      <td>1</td>\n",
       "      <td>1</td>\n",
       "    </tr>\n",
       "    <tr>\n",
       "      <th>3</th>\n",
       "      <td>Um &lt;vocalsound&gt; and um</td>\n",
       "      <td>1</td>\n",
       "      <td>1</td>\n",
       "      <td>0</td>\n",
       "    </tr>\n",
       "    <tr>\n",
       "      <th>4</th>\n",
       "      <td>this is just what we're gonna be doing over th...</td>\n",
       "      <td>1</td>\n",
       "      <td>1</td>\n",
       "      <td>0</td>\n",
       "    </tr>\n",
       "    <tr>\n",
       "      <th>...</th>\n",
       "      <td>...</td>\n",
       "      <td>...</td>\n",
       "      <td>...</td>\n",
       "      <td>...</td>\n",
       "    </tr>\n",
       "    <tr>\n",
       "      <th>72618</th>\n",
       "      <td>then we'll &lt;disfmarker&gt;</td>\n",
       "      <td>1</td>\n",
       "      <td>1</td>\n",
       "      <td>0</td>\n",
       "    </tr>\n",
       "    <tr>\n",
       "      <th>72619</th>\n",
       "      <td>overall , two points .</td>\n",
       "      <td>1</td>\n",
       "      <td>2</td>\n",
       "      <td>0</td>\n",
       "    </tr>\n",
       "    <tr>\n",
       "      <th>72620</th>\n",
       "      <td>Yes .</td>\n",
       "      <td>1</td>\n",
       "      <td>0</td>\n",
       "      <td>0</td>\n",
       "    </tr>\n",
       "    <tr>\n",
       "      <th>72621</th>\n",
       "      <td>I see you later .</td>\n",
       "      <td>1</td>\n",
       "      <td>1</td>\n",
       "      <td>0</td>\n",
       "    </tr>\n",
       "    <tr>\n",
       "      <th>72622</th>\n",
       "      <td>Yeah .</td>\n",
       "      <td>1</td>\n",
       "      <td>0</td>\n",
       "      <td>0</td>\n",
       "    </tr>\n",
       "  </tbody>\n",
       "</table>\n",
       "<p>72623 rows × 4 columns</p>\n",
       "</div>"
      ],
      "text/plain": [
       "                                               sentences  in_degree  \\\n",
       "0                                                   Okay          0   \n",
       "1                                                  Right          1   \n",
       "2      <vocalsound> Um well this is the kick-off meet...          1   \n",
       "3                                 Um <vocalsound> and um          1   \n",
       "4      this is just what we're gonna be doing over th...          1   \n",
       "...                                                  ...        ...   \n",
       "72618                            then we'll <disfmarker>          1   \n",
       "72619                             overall , two points .          1   \n",
       "72620                                              Yes .          1   \n",
       "72621                                  I see you later .          1   \n",
       "72622                                             Yeah .          1   \n",
       "\n",
       "       out_degree  labels  \n",
       "0               1       0  \n",
       "1               1       0  \n",
       "2               1       1  \n",
       "3               1       0  \n",
       "4               1       0  \n",
       "...           ...     ...  \n",
       "72618           1       0  \n",
       "72619           2       0  \n",
       "72620           0       0  \n",
       "72621           1       0  \n",
       "72622           0       0  \n",
       "\n",
       "[72623 rows x 4 columns]"
      ]
     },
     "execution_count": 50,
     "metadata": {},
     "output_type": "execute_result"
    }
   ],
   "source": [
    "df_list = []\n",
    "for id in dialog_ids:\n",
    "    df_list.append(pd.DataFrame(\n",
    "        {\n",
    "            \"sentences\" : sentences[id], \n",
    "            \"in_degree\" : in_degrees[id],\n",
    "            \"out_degree\" : out_degrees[id],\n",
    "            \"labels\" : labels[id],\n",
    "        }\n",
    "    ))\n",
    "\n",
    "df = pd.concat(df_list, ignore_index=True)\n",
    "\n",
    "df"
   ]
  },
  {
   "cell_type": "code",
   "execution_count": 55,
   "metadata": {},
   "outputs": [
    {
     "data": {
      "text/plain": [
       "out_degree\n",
       "0    0.069429\n",
       "1    0.197800\n",
       "2    0.273229\n",
       "3    0.341919\n",
       "4    0.367521\n",
       "5    0.357143\n",
       "6    0.500000\n",
       "Name: labels, dtype: float64"
      ]
     },
     "execution_count": 55,
     "metadata": {},
     "output_type": "execute_result"
    }
   ],
   "source": [
    "df.groupby('out_degree')['labels'].mean()"
   ]
  },
  {
   "cell_type": "code",
   "execution_count": 56,
   "metadata": {},
   "outputs": [
    {
     "data": {
      "text/plain": [
       "in_degree\n",
       "0    0.041237\n",
       "1    0.183217\n",
       "Name: labels, dtype: float64"
      ]
     },
     "execution_count": 56,
     "metadata": {},
     "output_type": "execute_result"
    }
   ],
   "source": [
    "df.groupby('in_degree')['labels'].mean()"
   ]
  }
 ],
 "metadata": {
  "kernelspec": {
   "display_name": ".venv",
   "language": "python",
   "name": "python3"
  },
  "language_info": {
   "codemirror_mode": {
    "name": "ipython",
    "version": 3
   },
   "file_extension": ".py",
   "mimetype": "text/x-python",
   "name": "python",
   "nbconvert_exporter": "python",
   "pygments_lexer": "ipython3",
   "version": "3.11.6"
  }
 },
 "nbformat": 4,
 "nbformat_minor": 2
}
