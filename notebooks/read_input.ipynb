{
 "cells": [
  {
   "cell_type": "code",
   "execution_count": 6,
   "metadata": {},
   "outputs": [],
   "source": [
    "import json\n",
    "import torch\n",
    "import custom_utils\n",
    "import numpy as np\n",
    "from sentence_transformers import SentenceTransformer\n",
    "bert = SentenceTransformer('all-MiniLM-L6-v2')\n",
    "\n",
    "if torch.cuda.is_available():\n",
    "    torch.set_default_device(0) "
   ]
  },
  {
   "cell_type": "code",
   "execution_count": 7,
   "metadata": {},
   "outputs": [],
   "source": [
    "# read labels\n",
    "with open(\"training_labels.json\", \"r\") as json_file:\n",
    "    labels = json.load(json_file)\n",
    "\n",
    "# read nodes and edges\n",
    "dialogs, speakers, edges = custom_utils.gather_dataset(\"training\", combine=False)"
   ]
  },
  {
   "cell_type": "code",
   "execution_count": 8,
   "metadata": {},
   "outputs": [],
   "source": [
    "# aggregate data from all dialogs\n",
    "X_train_dialog, y_train, X_train_speaker, train_edge_idx, train_edge_attr = [], [], [], [], []\n",
    "X_test_dialog, y_test, X_test_speaker, test_edge_idx, test_edge_attr = [], [], [], [], []\n",
    "\n",
    "count_train, count_test = 0, 0\n",
    "for id in dialogs.keys():\n",
    "        if id[0] == 'T': # dumb --> dialogs starting with T for test\n",
    "                X_test_dialog += dialogs[id]\n",
    "                X_test_speaker += speakers[id]\n",
    "                y_test += labels[id]\n",
    "                test_edge_idx += [[e[0] + count_test, e[2] + count_test] for e in edges[id]]\n",
    "                test_edge_attr += [e[1] for e in edges[id]]\n",
    "                count_test += len(labels[id]) \n",
    "        else:\n",
    "                X_train_dialog += dialogs[id]\n",
    "                X_train_speaker += speakers[id]\n",
    "                y_train += labels[id]\n",
    "                train_edge_idx += [[e[0] + count_train, e[2] + count_train] for e in edges[id]]\n",
    "                train_edge_attr += [e[1] for e in edges[id]]\n",
    "                count_train += len(labels[id])"
   ]
  },
  {
   "cell_type": "code",
   "execution_count": 9,
   "metadata": {},
   "outputs": [],
   "source": [
    "# hot encode speakers name\n",
    "switcher = {\n",
    "        \"PM\" : [1,0,0,0],\n",
    "        \"ME\" : [0,1,0,0],\n",
    "        \"UI\" : [0,0,1,0],\n",
    "        \"ID\" : [0,0,0,1]\n",
    "}\n",
    "\n",
    "# ordinal encoder (eda)\n",
    "# switcher = {\n",
    "#         \"PM\" : [1],\n",
    "#         \"ME\" : [0],\n",
    "#         \"UI\" : [0],\n",
    "#         \"ID\" : [0]\n",
    "# }"
   ]
  },
  {
   "cell_type": "code",
   "execution_count": 12,
   "metadata": {},
   "outputs": [
    {
     "name": "stderr",
     "output_type": "stream",
     "text": [
      "Batches: 100%|██████████| 1588/1588 [00:29<00:00, 53.95it/s]\n",
      "Batches: 100%|██████████| 683/683 [00:11<00:00, 60.03it/s]\n"
     ]
    }
   ],
   "source": [
    "# train formatting\n",
    "X_speaker = torch.Tensor([switcher[el] for el in X_train_speaker])\n",
    "X_dialog = bert.encode(X_train_dialog, show_progress_bar=True, convert_to_tensor=True).to(X_speaker.device)\n",
    "X_train = torch.cat((X_dialog, X_speaker), dim=1).numpy().tolist()\n",
    "# edge_idx = torch.Tensor(train_edge_idx).long().transpose(0,1)\n",
    "# edge_attr = bert.encode(train_edge_attr, show_progress_bar=True, convert_to_tensor=False)\n",
    "\n",
    "# test formatting\n",
    "X_test_speaker = torch.Tensor([switcher[el] for el in X_test_speaker])\n",
    "X_test_dialog = bert.encode(X_test_dialog, show_progress_bar=True, convert_to_tensor=True).to(X_test_speaker.device)\n",
    "X_test = torch.cat((X_test_dialog, X_test_speaker), dim = 1).numpy().tolist()\n",
    "# test_edge_idx = torch.Tensor(test_edge_idx).long().transpose(0,1)\n",
    "# test_edge_attr = bert.encode(test_edge_attr, show_progress_bar=True, convert_to_tensor=False)"
   ]
  },
  {
   "cell_type": "code",
   "execution_count": 13,
   "metadata": {},
   "outputs": [],
   "source": [
    "# creating json files\n",
    "with open('data/X_train.json', 'w') as json_file:\n",
    "    json.dump(X_train, json_file)\n",
    "with open('data/y_train.json', 'w') as json_file:\n",
    "    json.dump(y_train, json_file)\n",
    "\n",
    "with open('data/X_test.json', 'w') as json_file:\n",
    "    json.dump(X_test, json_file)\n",
    "with open('data/y_test.json', 'w') as json_file:\n",
    "    json.dump(y_test, json_file)"
   ]
  }
 ],
 "metadata": {
  "kernelspec": {
   "display_name": "env",
   "language": "python",
   "name": "python3"
  },
  "language_info": {
   "codemirror_mode": {
    "name": "ipython",
    "version": 3
   },
   "file_extension": ".py",
   "mimetype": "text/x-python",
   "name": "python",
   "nbconvert_exporter": "python",
   "pygments_lexer": "ipython3",
   "version": "3.11.6"
  },
  "orig_nbformat": 4
 },
 "nbformat": 4,
 "nbformat_minor": 2
}
